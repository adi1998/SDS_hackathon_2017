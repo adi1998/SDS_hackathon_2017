{
 "cells": [
  {
   "cell_type": "code",
   "execution_count": 21,
   "metadata": {
    "collapsed": true
   },
   "outputs": [],
   "source": [
    "import pandas as pd\n",
    "import numpy as np\n",
    "\n",
    "from sklearn.externals import joblib\n",
    "from sklearn.model_selection import train_test_split\n",
    "from sklearn.feature_extraction.text import CountVectorizer\n",
    "from sklearn.metrics import accuracy_score\n",
    "from sklearn.naive_bayes import GaussianNB"
   ]
  },
  {
   "cell_type": "code",
   "execution_count": 22,
   "metadata": {
    "scrolled": true
   },
   "outputs": [],
   "source": [
    "#This model processes a custom dataset, which consists of text messages, and classifies these text messages as Spam and NotSpam."
   ]
  },
  {
   "cell_type": "code",
   "execution_count": 23,
   "metadata": {},
   "outputs": [],
   "source": [
    "# Pre-processing the dataset:\n",
    "\n",
    "# a = pd.read_csv(\"./Testing.csv\", encoding = 'utf-8')\n",
    "\n",
    "# Filtering out links, digits, and special characters\n",
    "\n",
    "# a[\"Message\"] = a[\"Message\"].str.replace('https?:\\/\\/.*[\\r\\n]*', ' ')\n",
    "# a[\"Message\"] = a[\"Message\"].str.replace('\\d+', ' ')\n",
    "# a[\"Message\"] = a[\"Message\"].str.replace('[^a-zA-Z0-9 \\n]', ' ')\n",
    "\n",
    "\n",
    "# a[\"Message\"] = a[\"Message\"].str.lower()\n",
    "\n",
    "# a.to_csv(\"Processed Dataset.csv\")"
   ]
  },
  {
   "cell_type": "code",
   "execution_count": 24,
   "metadata": {
    "collapsed": true
   },
   "outputs": [],
   "source": [
    "#Using the pre-processed dataset\n",
    "\n",
    "a = pd.read_csv(\"./Processed Dataset.csv\", encoding='utf-8')"
   ]
  },
  {
   "cell_type": "code",
   "execution_count": 25,
   "metadata": {},
   "outputs": [],
   "source": [
    "X_train, X_test, y_train, y_test = train_test_split(a[\"Message\"], a[\"Spam\"], test_size = 0.2, random_state = 10) \n",
    "#20-80 test-train split is used"
   ]
  },
  {
   "cell_type": "code",
   "execution_count": 26,
   "metadata": {
    "collapsed": true
   },
   "outputs": [],
   "source": [
    "vect = CountVectorizer(stop_words='english')"
   ]
  },
  {
   "cell_type": "code",
   "execution_count": 27,
   "metadata": {},
   "outputs": [
    {
     "data": {
      "text/plain": [
       "['vect.dat']"
      ]
     },
     "execution_count": 27,
     "metadata": {},
     "output_type": "execute_result"
    }
   ],
   "source": [
    "vect.fit_transform(X_train)\n",
    "\n",
    "joblib.dump(vect, \"vect.dat\") #Dumps the vect object"
   ]
  },
  {
   "cell_type": "code",
   "execution_count": 28,
   "metadata": {},
   "outputs": [],
   "source": [
    "X_train_df = vect.transform(X_train)\n",
    "\n",
    "X_test_df = vect.transform(X_test)"
   ]
  },
  {
   "cell_type": "code",
   "execution_count": 29,
   "metadata": {
    "collapsed": true
   },
   "outputs": [],
   "source": [
    "prediction = dict()"
   ]
  },
  {
   "cell_type": "code",
   "execution_count": 30,
   "metadata": {
    "scrolled": true
   },
   "outputs": [
    {
     "data": {
      "text/plain": [
       "['model.dat']"
      ]
     },
     "execution_count": 30,
     "metadata": {},
     "output_type": "execute_result"
    }
   ],
   "source": [
    "model = GaussianNB()\n",
    "\n",
    "model.fit(X_train_df.toarray(), y_train)\n",
    "\n",
    "joblib.dump(model, \"model.dat\") #Dumps the model object"
   ]
  },
  {
   "cell_type": "code",
   "execution_count": 31,
   "metadata": {},
   "outputs": [
    {
     "data": {
      "text/plain": [
       "0.91489361702127658"
      ]
     },
     "execution_count": 31,
     "metadata": {},
     "output_type": "execute_result"
    }
   ],
   "source": [
    "prediction[\"Gaussian\"] = model.predict(X_test_df.toarray())\n",
    "\n",
    "accuracy_score(y_test, prediction[\"Gaussian\"])"
   ]
  }
 ],
 "metadata": {
  "kernelspec": {
   "display_name": "Python 3",
   "language": "python",
   "name": "python3"
  },
  "language_info": {
   "codemirror_mode": {
    "name": "ipython",
    "version": 3
   },
   "file_extension": ".py",
   "mimetype": "text/x-python",
   "name": "python",
   "nbconvert_exporter": "python",
   "pygments_lexer": "ipython3",
   "version": "3.5.3"
  }
 },
 "nbformat": 4,
 "nbformat_minor": 2
}
